{
 "cells": [
  {
   "cell_type": "markdown",
   "id": "30e17061-11be-4bf7-b411-1efb930b56e7",
   "metadata": {},
   "source": [
    "## LangChain Prompts\n",
    "- Prompts refer to the text that is sent to the language model for processing.\n",
    "- They serve as instructions or queries that elicit specific responses from the model.\n",
    "- Prompts can be simple or more instructional, depending on the desired output."
   ]
  },
  {
   "cell_type": "code",
   "execution_count": 1,
   "id": "3916426a-85fd-426d-b730-31788aab9a2e",
   "metadata": {},
   "outputs": [],
   "source": [
    "from dotenv import load_dotenv, dotenv_values\n",
    "import google.generativeai as genai\n",
    "from IPython.display import Markdown, display\n",
    "import pandas as pd \n",
    "import os\n",
    "load_dotenv()\n",
    "my_api_key = os.getenv(\"GOOGLE_API_KEY\") \n",
    "genai.configure(api_key=my_api_key)"
   ]
  },
  {
   "cell_type": "markdown",
   "id": "337bdf26-cef3-4637-8edd-2bc63d96a14d",
   "metadata": {},
   "source": [
    "#### String PromptTemplates\n",
    "These prompt templates are used to format a single string, and generally are used for simpler inputs. For example, a common way to construct and use a PromptTemplate is as follows:"
   ]
  },
  {
   "cell_type": "code",
   "execution_count": 2,
   "id": "c5cb8285-d9a7-4c88-9119-a78720186ecb",
   "metadata": {},
   "outputs": [
    {
     "name": "stdout",
     "output_type": "stream",
     "text": [
      "Why did the cat go to the library?\n",
      "\n",
      "To check out a book on mice!\n"
     ]
    }
   ],
   "source": [
    "# Import Prompt\n",
    "from langchain_core.prompts import PromptTemplate\n",
    "from langchain_google_genai.llms import GoogleGenerativeAI\n",
    "\n",
    "prompt_template = PromptTemplate.from_template(\"Tell me a joke about {topic}\")\n",
    "\n",
    "prompt = prompt_template.invoke({\"topic\": \"cats\"})\n",
    "llm = GoogleGenerativeAI(model=\"models/text-bison-001\")\n",
    "result = llm.invoke(prompt)\n",
    "print(result)"
   ]
  },
  {
   "cell_type": "markdown",
   "id": "4baa569b-b9fb-4c7c-8b64-9dcbb84ff0dd",
   "metadata": {},
   "source": [
    "#### ChatPromptTemplates\n",
    "These prompt templates are used to format a list of messages. These \"templates\" consist of a list of templates themselves. For example, a common way to construct and use a ChatPromptTemplate is as follows:"
   ]
  },
  {
   "cell_type": "code",
   "execution_count": 3,
   "id": "038347d5-9847-4298-8054-ca65fe22f186",
   "metadata": {},
   "outputs": [
    {
     "name": "stdout",
     "output_type": "stream",
     "text": [
      "Why don't cats play poker? \n",
      "\n",
      "Because they always have an ace up their sleeve! 😹 \n",
      "\n"
     ]
    }
   ],
   "source": [
    "from langchain_core.prompts import ChatPromptTemplate\n",
    "\n",
    "prompt_template = ChatPromptTemplate.from_messages([\n",
    "    (\"system\", \"You are a helpful assistant\"),\n",
    "    (\"user\", \"Tell me a joke about {topic}\")\n",
    "])\n",
    "\n",
    "prompt = prompt_template.invoke({\"topic\": \"cats\"})\n",
    "from langchain_google_genai.chat_models import  ChatGoogleGenerativeAI\n",
    "llm = ChatGoogleGenerativeAI(model= \"gemini-1.5-flash\", temperature = 0.1) # \"chat-bison@001\"\n",
    "result = llm.invoke(prompt)\n",
    "print(result.content)\n"
   ]
  },
  {
   "cell_type": "markdown",
   "id": "7d3e00d4-7839-45fe-9faf-b2d2f5ceadf3",
   "metadata": {},
   "source": [
    "Setting convert_system_message_to_human to True is deprecated\n",
    "\n"
   ]
  },
  {
   "cell_type": "code",
   "execution_count": 4,
   "id": "7db4df84-bc39-4c01-b3a8-86704ef8b666",
   "metadata": {},
   "outputs": [
    {
     "name": "stdout",
     "output_type": "stream",
     "text": [
      "Yes. \n",
      "\n"
     ]
    }
   ],
   "source": [
    "from langchain_core.messages import HumanMessage, SystemMessage\n",
    "\n",
    "result = llm.invoke(\n",
    "    [\n",
    "        SystemMessage(content=\"Answer only yes or no.\"),\n",
    "        HumanMessage(content=\"Is apple a fruit?\"),\n",
    "    ]\n",
    ")\n",
    "print(result.content)\n"
   ]
  },
  {
   "cell_type": "markdown",
   "id": "eeacb341-5b7c-4569-84ef-cf3bafb96bec",
   "metadata": {},
   "source": [
    "### MessagesPlaceholder\n",
    "This prompt template is responsible for adding a list of messages in a particular place. In the above ChatPromptTemplate, we saw how we could format two messages, each one a string. But what if we wanted the user to pass in a list of messages that we would slot into a particular spot? This is how you use MessagesPlaceholder."
   ]
  },
  {
   "cell_type": "code",
   "execution_count": 5,
   "id": "a4eb5b76-8318-4b45-99ac-441e74a295bf",
   "metadata": {},
   "outputs": [
    {
     "data": {
      "text/plain": [
       "'Hi there! 👋  How can I help you today? 😊 \\n'"
      ]
     },
     "execution_count": 5,
     "metadata": {},
     "output_type": "execute_result"
    }
   ],
   "source": [
    "from langchain_core.prompts import ChatPromptTemplate, MessagesPlaceholder\n",
    "from langchain_core.messages import HumanMessage\n",
    "\n",
    "prompt_template = ChatPromptTemplate.from_messages([\n",
    "    (\"system\", \"You are a helpful assistant\"),\n",
    "    MessagesPlaceholder(\"msgs\")\n",
    "])\n",
    "\n",
    "template = prompt_template.invoke({\"msgs\": [HumanMessage(content=\"hi!\")]})\n",
    "result = llm.invoke(template)\n",
    "result.content"
   ]
  },
  {
   "cell_type": "code",
   "execution_count": null,
   "id": "52ecee83-d2e5-41ed-8f74-764380574900",
   "metadata": {},
   "outputs": [],
   "source": []
  }
 ],
 "metadata": {
  "kernelspec": {
   "display_name": "Python 3 (ipykernel)",
   "language": "python",
   "name": "python3"
  },
  "language_info": {
   "codemirror_mode": {
    "name": "ipython",
    "version": 3
   },
   "file_extension": ".py",
   "mimetype": "text/x-python",
   "name": "python",
   "nbconvert_exporter": "python",
   "pygments_lexer": "ipython3",
   "version": "3.11.5"
  }
 },
 "nbformat": 4,
 "nbformat_minor": 5
}
