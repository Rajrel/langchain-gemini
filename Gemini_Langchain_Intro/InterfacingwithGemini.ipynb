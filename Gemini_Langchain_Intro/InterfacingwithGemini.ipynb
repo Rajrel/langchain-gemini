{
 "cells": [
  {
   "cell_type": "markdown",
   "id": "31168a68-dd42-4f24-8df5-ec315ae85e60",
   "metadata": {},
   "source": [
    "## <U>Install Necessary Libraries <U>\r\n",
    "     1. langchain \r\n",
    "     2. langchain-core\r\n",
    "     3. langchain-community \r\n",
    "     4. langchain-experimental\r\n",
    "     5. langchain-google-genai (https://api.python.langchain.com/en/latest/google_genai_api_reference.html)\r\n",
    "     6. python-dotenv"
   ]
  },
  {
   "cell_type": "code",
   "execution_count": null,
   "id": "6134c780-eeab-4ff0-b560-5cc64bc24748",
   "metadata": {},
   "outputs": [],
   "source": [
    "!pip install langchain langchain-core langchain-community langchain-experimental  langchain-google-genai  python-dotenv --q"
   ]
  },
  {
   "cell_type": "code",
   "execution_count": null,
   "id": "55aeec19-f46c-43b2-b187-98eea149e28f",
   "metadata": {},
   "outputs": [],
   "source": [
    "!pip install -q -U google-generativeai\n",
    "# The Python SDK for the Gemini API, is contained in the google-generativeai package"
   ]
  },
  {
   "cell_type": "code",
   "execution_count": 7,
   "id": "7ec431be-5c34-4893-82ca-ace0d43a4ea1",
   "metadata": {},
   "outputs": [],
   "source": [
    "import os\n",
    "# Disable pip version check\n",
    "os.environ['PIP_DISABLE_PIP_VERSION_CHECK'] = '1'\n",
    "import warnings\n",
    "warnings.filterwarnings('ignore')"
   ]
  },
  {
   "cell_type": "code",
   "execution_count": 25,
   "id": "9a68fac9-f648-4150-b2a2-12a46cd4e519",
   "metadata": {},
   "outputs": [
    {
     "name": "stdout",
     "output_type": "stream",
     "text": [
      "************************************************** List of Models **************************************************\n"
     ]
    },
    {
     "data": {
      "text/markdown": [
       "models/gemini-1.0-pro"
      ],
      "text/plain": [
       "<IPython.core.display.Markdown object>"
      ]
     },
     "metadata": {},
     "output_type": "display_data"
    },
    {
     "data": {
      "text/markdown": [
       "models/gemini-1.0-pro-001"
      ],
      "text/plain": [
       "<IPython.core.display.Markdown object>"
      ]
     },
     "metadata": {},
     "output_type": "display_data"
    },
    {
     "data": {
      "text/markdown": [
       "models/gemini-1.0-pro-latest"
      ],
      "text/plain": [
       "<IPython.core.display.Markdown object>"
      ]
     },
     "metadata": {},
     "output_type": "display_data"
    },
    {
     "data": {
      "text/markdown": [
       "models/gemini-1.0-pro-vision-latest"
      ],
      "text/plain": [
       "<IPython.core.display.Markdown object>"
      ]
     },
     "metadata": {},
     "output_type": "display_data"
    },
    {
     "data": {
      "text/markdown": [
       "models/gemini-1.5-flash"
      ],
      "text/plain": [
       "<IPython.core.display.Markdown object>"
      ]
     },
     "metadata": {},
     "output_type": "display_data"
    },
    {
     "data": {
      "text/markdown": [
       "models/gemini-1.5-flash-001"
      ],
      "text/plain": [
       "<IPython.core.display.Markdown object>"
      ]
     },
     "metadata": {},
     "output_type": "display_data"
    },
    {
     "data": {
      "text/markdown": [
       "models/gemini-1.5-flash-latest"
      ],
      "text/plain": [
       "<IPython.core.display.Markdown object>"
      ]
     },
     "metadata": {},
     "output_type": "display_data"
    },
    {
     "data": {
      "text/markdown": [
       "models/gemini-1.5-pro"
      ],
      "text/plain": [
       "<IPython.core.display.Markdown object>"
      ]
     },
     "metadata": {},
     "output_type": "display_data"
    },
    {
     "data": {
      "text/markdown": [
       "models/gemini-1.5-pro-001"
      ],
      "text/plain": [
       "<IPython.core.display.Markdown object>"
      ]
     },
     "metadata": {},
     "output_type": "display_data"
    },
    {
     "data": {
      "text/markdown": [
       "models/gemini-1.5-pro-latest"
      ],
      "text/plain": [
       "<IPython.core.display.Markdown object>"
      ]
     },
     "metadata": {},
     "output_type": "display_data"
    },
    {
     "data": {
      "text/markdown": [
       "models/gemini-pro"
      ],
      "text/plain": [
       "<IPython.core.display.Markdown object>"
      ]
     },
     "metadata": {},
     "output_type": "display_data"
    },
    {
     "data": {
      "text/markdown": [
       "models/gemini-pro-vision"
      ],
      "text/plain": [
       "<IPython.core.display.Markdown object>"
      ]
     },
     "metadata": {},
     "output_type": "display_data"
    }
   ],
   "source": [
    "from dotenv import load_dotenv, dotenv_values\n",
    "import google.generativeai as genai\n",
    "from IPython.display import Markdown, display\n",
    "load_dotenv()\n",
    "os.getenv(\"GOOGLE_API_KEY\") \n",
    "print(\"*\" * 50,\"List of Models\", \"*\" * 50)\n",
    "for m in genai.list_models():\n",
    "  if 'generateContent' in m.supported_generation_methods:\n",
    "      display(Markdown(m.name))  \n"
   ]
  },
  {
   "cell_type": "markdown",
   "id": "2444f453-a38c-495a-9c86-2bd99bce9035",
   "metadata": {},
   "source": [
    "## Chat Model\n",
    " - A chat model also takes text as input and generates text as output, but it's designed specifically for conversational interactions.\r\n",
    " - It responds to different message types, including: System Messages, Human Messages and AI Messages\r\n",
    " - Chat models enable more interactive and dynamic conversations with language mods.\r\n",
    "s.\r\n"
   ]
  },
  {
   "cell_type": "code",
   "execution_count": 35,
   "id": "e7127568-a996-4123-bb0f-7577acf28ba3",
   "metadata": {},
   "outputs": [
    {
     "name": "stdout",
     "output_type": "stream",
     "text": [
      "In Pokhara's valley, where mountains rise high,\n",
      "A city of beauty, beneath a clear sky.\n",
      "Phewa Lake shimmers, reflecting the peaks,\n",
      "While peace descends, with nature's sweet speaks.\n",
      "The Annapurna range, a majestic sight,\n",
      "Draws travelers in, with its ethereal light.\n",
      "Sarangkot's heights, offer views so grand,\n",
      "Of sunrise and sunset, across the land.\n",
      "A cultural tapestry, woven with care,\n",
      "Pokhara, a haven, beyond compare. \n",
      "\n"
     ]
    }
   ],
   "source": [
    "from langchain_google_genai.chat_models import  ChatGoogleGenerativeAI\n",
    "llm = ChatGoogleGenerativeAI(model= \"gemini-1.5-flash\", temperature = 0.6) # \"chat-bison@001\"\n",
    "result = llm.invoke(\"Write a ballad about Pokhara in 10 lines\")\n",
    "print(result.content)"
   ]
  },
  {
   "cell_type": "code",
   "execution_count": null,
   "id": "4fc34d7b-89f1-4848-a9d8-8874f8c262f7",
   "metadata": {},
   "outputs": [],
   "source": [
    "# ChatGoogleGenerativeAI natively supports streaming and batching\n",
    "for chunk in llm.stream(\"Write a 5 line eulogy on beauty of Nepal\"):\n",
    "    print(chunk.content)\n",
    "    print(\"---\")"
   ]
  },
  {
   "cell_type": "code",
   "execution_count": null,
   "id": "c6fb3ba4-2320-4d0a-b7a2-bbcf586c03ab",
   "metadata": {},
   "outputs": [],
   "source": [
    "results = llm.batch(\n",
    "    [\n",
    "        \"What's 2+2?\",\n",
    "        \"What's 3+5?\",\n",
    "    ]\n",
    ")\n",
    "for res in results:\n",
    "    print(res.content)"
   ]
  },
  {
   "cell_type": "markdown",
   "id": "782ca7ba-4642-4b36-a0dd-5f1fe7c4fcef",
   "metadata": {},
   "source": [
    "## Language Model\n",
    "- A language model takes text as input and produces text as output.\n",
    "-  It's the most common and straightforward model typ.\n",
    "- • For example, asking the language model, \"What day comes after Friday?\" yields the output “Saturday.” "
   ]
  },
  {
   "cell_type": "code",
   "execution_count": 23,
   "id": "649bb015-3af9-46b1-b6a6-d0a9ba74da67",
   "metadata": {},
   "outputs": [
    {
     "data": {
      "text/markdown": [
       "**Pros of Python:**\n",
       "\n",
       "* **Easy to learn:** Python is a relatively easy language to learn, even for beginners. The syntax is simple and straightforward, and there are a lot of resources available to help you get started.\n",
       "* **Versatile:** Python can be used for a wide variety of tasks, including web development, data science, and machine learning. It's also a good choice for beginners because it can be used for a variety of projects, so you can learn the basics and then grow your skills as you need them.\n",
       "* **Open source:** Python is an open-source language, which means that it's free to use and there are a lot of community resources available. This can be a big advantage for beginners, as you can find help and support from other developers.\n",
       "* **High-level:** Python is a high-level language, which means that it's closer to human language than some other programming languages. This can make it easier to read and understand code, which can be helpful for beginners.\n",
       "* **Fast:** Python is a fast language, especially when compared to some other interpreted languages. This can be a big advantage if you're working on projects that require speed.\n",
       "\n",
       "**Cons of Python:**\n",
       "\n",
       "* **Performance:** Python is not as fast as some compiled languages, such as C++. This can be a disadvantage if you're working on projects that require high performance.\n",
       "* **Memory usage:** Python can be more memory-intensive than some other languages. This can be a disadvantage if you're working on projects with limited memory resources.\n",
       "* **Dynamic typing:** Python is a dynamically typed language, which means that the type of a variable can change during runtime. This can be a disadvantage for beginners, as it can make it more difficult to track errors.\n",
       "* **Unclear error messages:** Python's error messages can sometimes be unclear, which can make it difficult to debug code. This can be a disadvantage for beginners, as it can make it more difficult to learn from mistakes.\n",
       "\n",
       "Overall, Python is a powerful and versatile programming language that is well-suited for a wide variety of tasks. It's easy to learn, versatile, and open-source, making it a good choice for beginners and experienced developers alike. However, it's important to be aware of some of the cons of Python, such as its performance, memory usage, and dynamic typing, before you decide whether it's the right language for you."
      ],
      "text/plain": [
       "<IPython.core.display.Markdown object>"
      ]
     },
     "metadata": {},
     "output_type": "display_data"
    }
   ],
   "source": [
    "from langchain_google_genai.llms import GoogleGenerativeAI\n",
    "\n",
    "llm = GoogleGenerativeAI(model=\"models/text-bison-001\")\n",
    "display(Markdown(llm.invoke( \"What are some of the pros and cons of Python as a programming language?\"\n",
    "    )))"
   ]
  },
  {
   "cell_type": "code",
   "execution_count": 24,
   "id": "f972a865-cc90-41ca-acf0-fe86319dcd88",
   "metadata": {},
   "outputs": [
    {
     "data": {
      "text/markdown": [
       "**Pros**:\n",
       "\n",
       "* **Easy to learn and use**: Python has a simple and intuitive syntax, making it one of the most accessible programming languages for beginners.\n",
       "* **Extensive library support**: Python has a vast ecosystem of libraries and frameworks that cover a wide range of tasks, from data science to machine learning to web development.\n",
       "* **Interpreted language**: Python is an interpreted language, which means that it does not need to be compiled before running, making it faster to develop and debug code.\n",
       "* **Cross-platform**: Python is compatible with all major operating systems, including Windows, macOS, and Linux, making it a portable language for developing applications that can be used on different platforms.\n",
       "* **Object-oriented**: Python supports object-oriented programming, which allows developers to organize code into classes and objects, making it easier to manage complex applications.\n",
       "\n",
       "**Cons**:\n",
       "\n",
       "* **Not as fast as compiled languages**: Python is an interpreted language, which means that it can be slower than compiled languages such as C++ or Java.\n",
       "* **Dynamic typing**: Python is a dynamically typed language, which means that the type of a variable is not checked until runtime, which can lead to errors that are difficult to catch during development.\n",
       "* **Memory management**: Python uses automatic memory management, which can lead to memory leaks if not used properly.\n",
       "* **Limited concurrency**: Python has a limited ability to handle concurrency, which can make it difficult to develop applications that need to perform multiple tasks simultaneously.\n",
       "* **Not suitable for all tasks**: Python is not suitable for all programming tasks, such as developing high-performance computing applications or embedded systems."
      ],
      "text/plain": [
       "<IPython.core.display.Markdown object>"
      ]
     },
     "metadata": {},
     "output_type": "display_data"
    }
   ],
   "source": [
    "\n",
    "llm = GoogleGenerativeAI(model=\"gemini-pro\")\n",
    "display(Markdown(llm.invoke( \"What are some of the pros and cons of Python as a programming language?\"\n",
    "    )))"
   ]
  },
  {
   "cell_type": "markdown",
   "id": "10852a65-f334-4a3b-84bc-abee43acf791",
   "metadata": {},
   "source": [
    "## Text Embedding Model:\r\n",
    "- These models transform text into semantic representations, which are one-dimensional arrays or vectors comprising a series of numbers.\r\n",
    "- Text embedding models are essential for similarity searches and text comparisons in language model applications.\r\n",
    "- The semantic representation captures the meaning of the text, making it easy to compare with other tex\n",
    "\n",
    "<b><i>The Gemini Text Embedding model, starting with text-embedding-004, offers elastic embedding sizes under 768. You can use elastic embeddings to generate smaller output dimensions and potentially save computing and storage costs with minor performance loss.</i>\n",
    "s.\r\n",
    "ts."
   ]
  },
  {
   "cell_type": "code",
   "execution_count": 38,
   "id": "633af4da-c14c-4790-9b78-01d03606c8d6",
   "metadata": {},
   "outputs": [
    {
     "data": {
      "text/plain": [
       "[-0.01670188456773758,\n",
       " -0.0332479290664196,\n",
       " -0.05218006297945976,\n",
       " -0.039804741740226746,\n",
       " 0.014455504715442657]"
      ]
     },
     "execution_count": 38,
     "metadata": {},
     "output_type": "execute_result"
    }
   ],
   "source": [
    "from langchain_google_genai import GoogleGenerativeAIEmbeddings\n",
    "\n",
    "embeddings = GoogleGenerativeAIEmbeddings(model=\"models/text-embedding-004\")\n",
    "vector = embeddings.embed_query(\"Hi Raj, you are a nutty case\")\n",
    "vector[:5]"
   ]
  },
  {
   "cell_type": "code",
   "execution_count": 31,
   "id": "3e0e06e9-84fb-452b-8637-a30339ed565c",
   "metadata": {},
   "outputs": [
    {
     "data": {
      "text/plain": [
       "(6, 768)"
      ]
     },
     "execution_count": 31,
     "metadata": {},
     "output_type": "execute_result"
    }
   ],
   "source": [
    "vectors = embeddings.embed_documents([\"Python\", \"Java\",\n",
    "\"BASIC\", \"COBOL\",\n",
    "\"JavaScript\", \"Lisp\"])\n",
    "\n",
    "len(vectors), len(vectors[0])"
   ]
  },
  {
   "cell_type": "markdown",
   "id": "7ae6e3bb-8155-4356-af73-2b24a7ccde9c",
   "metadata": {},
   "source": []
  },
  {
   "cell_type": "code",
   "execution_count": null,
   "id": "225b8b62-c8dd-4f55-96ee-7c017a5bf2ef",
   "metadata": {},
   "outputs": [],
   "source": []
  }
 ],
 "metadata": {
  "kernelspec": {
   "display_name": "Python 3 (ipykernel)",
   "language": "python",
   "name": "python3"
  },
  "language_info": {
   "codemirror_mode": {
    "name": "ipython",
    "version": 3
   },
   "file_extension": ".py",
   "mimetype": "text/x-python",
   "name": "python",
   "nbconvert_exporter": "python",
   "pygments_lexer": "ipython3",
   "version": "3.11.5"
  }
 },
 "nbformat": 4,
 "nbformat_minor": 5
}
